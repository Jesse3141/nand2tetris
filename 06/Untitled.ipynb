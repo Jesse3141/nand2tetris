{
 "cells": [
  {
   "cell_type": "code",
   "execution_count": 1,
   "id": "c3dbfbde-82d4-41a6-abb5-7ae3ae420fa4",
   "metadata": {},
   "outputs": [],
   "source": [
    "import pdb"
   ]
  },
  {
   "cell_type": "code",
   "execution_count": 2,
   "id": "0ae243e1-be45-42c5-bdfe-0737547083ae",
   "metadata": {},
   "outputs": [],
   "source": [
    "def hello_world():\n",
    "    a = 10\n",
    "    pdb.set_trace()\n",
    "    print(a)"
   ]
  },
  {
   "cell_type": "code",
   "execution_count": 3,
   "id": "c664ba21-f4b9-4803-9c5d-85d60f73bf99",
   "metadata": {},
   "outputs": [
    {
     "name": "stdout",
     "output_type": "stream",
     "text": [
      "> \u001b[1;32mc:\\users\\jesse\\appdata\\local\\temp\\ipykernel_12544\\3382394945.py\u001b[0m(4)\u001b[0;36mhello_world\u001b[1;34m()\u001b[0m\n",
      "\n"
     ]
    },
    {
     "name": "stdin",
     "output_type": "stream",
     "text": [
      "ipdb>  q\n"
     ]
    }
   ],
   "source": [
    "hello_world()"
   ]
  }
 ],
 "metadata": {
  "kernelspec": {
   "display_name": "Python (base)",
   "language": "python",
   "name": "python3"
  },
  "language_info": {
   "codemirror_mode": {
    "name": "ipython",
    "version": 3
   },
   "file_extension": ".py",
   "mimetype": "text/x-python",
   "name": "python",
   "nbconvert_exporter": "python",
   "pygments_lexer": "ipython3",
   "version": "3.10.14"
  }
 },
 "nbformat": 4,
 "nbformat_minor": 5
}
