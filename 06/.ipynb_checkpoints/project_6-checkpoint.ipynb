{
 "cells": [
  {
   "cell_type": "code",
   "execution_count": 1,
   "id": "eb030aa3-0044-4495-b9fa-3dce09c3b58b",
   "metadata": {
    "ExecuteTime": {
     "end_time": "2024-11-24T15:31:28.978375900Z",
     "start_time": "2024-11-24T15:31:28.935829200Z"
    }
   },
   "outputs": [],
   "source": [
    "import typing\n",
    "import re\n",
    "from pathlib import Path\n",
    "import pdb\n",
    "import ipdb"
   ]
  },
  {
   "cell_type": "code",
   "execution_count": 2,
   "id": "87b6918e-7aa9-43b9-8228-3d7161159d0b",
   "metadata": {},
   "outputs": [],
   "source": [
    "#consts:"
   ]
  },
  {
   "cell_type": "markdown",
   "id": "22954920",
   "metadata": {
    "collapsed": false,
    "jupyter": {
     "outputs_hidden": false
    }
   },
   "source": [
    "## parser"
   ]
  },
  {
   "cell_type": "code",
   "execution_count": 3,
   "id": "b4295b58-2206-4e4c-9988-5d113ead0b1c",
   "metadata": {
    "ExecuteTime": {
     "end_time": "2024-11-24T15:44:28.701405700Z",
     "start_time": "2024-11-24T15:44:28.666414900Z"
    }
   },
   "outputs": [],
   "source": [
    "class Command:\n",
    "    ''' keep track of commands and process their type:\n",
    "    check for null, or A, C and L. \n",
    "    for each type, find key values.\n",
    "    '''\n",
    "    def __init__(self, command: str) -> None:\n",
    "        self.command = command\n",
    "        self.symbol = None\n",
    "        self.comp = None\n",
    "        self.dest = None\n",
    "        self.jump = None\n",
    "        self.command_type = None\n",
    "        if command is None or command == '':\n",
    "            self.command = None\n",
    "            return\n",
    "\n",
    "        self.command_type = self.check_type() # so that always has some value\n",
    "        self.process_c_command()\n",
    "        self.process_symbol()\n",
    "\n",
    "    def check_type(self):\n",
    "        first_char = self.command[0]\n",
    "        if first_char == \"(\":\n",
    "             return \"L_COMMAND\"\n",
    "        if first_char == \"@\":\n",
    "             return \"A_COMMAND\"\n",
    "        return \"C_COMMAND\"\n",
    "    def process_symbol(self):\n",
    "        '''\n",
    "        if\n",
    "        '''\n",
    "        if self.command_type != 'A_COMMAND' and self.command_type != 'L_COMMAND': return\n",
    "        #remove @ or () from command\n",
    "        self.symbol = self.command[1:]\n",
    "        if self.command_type == 'L_COMMAND':\n",
    "            self.symbol = self.symbol[:-1]\n",
    "\n",
    "    def process_c_command(self):\n",
    "        '''process D=M+1, or D;JEQ\n",
    "        '''\n",
    "        if self.command_type != 'C_COMMAND': return\n",
    "        eq_sign_ind = self.command.find('=')\n",
    "        if eq_sign_ind != -1: \n",
    "            self.dest = self.command[:eq_sign_ind]\n",
    "            self.comp = self.command[1+eq_sign_ind:]\n",
    "        jump_comp_ind = self.command.find(';')\n",
    "        if jump_comp_ind != -1: \n",
    "            self.jump = self.command[1+jump_comp_ind:]\n",
    "            self.comp=self.command[:jump_comp_ind]\n",
    "\n",
    "    def get_type(self):\n",
    "        #with getattr return None or value\n",
    "        return self.command_type\n",
    "    def get_symbol(self):\n",
    "        return self.symbol\n",
    "    def get_dest(self):\n",
    "        return self.dest\n",
    "    def get_comp(self):\n",
    "        return self.comp\n",
    "    def get_jump(self):\n",
    "        return self.jump\n",
    "            \n",
    "    def __repr__(self) -> str:\n",
    "        if self.command is None or self.command == '':\n",
    "            return \"null\"\n",
    "        details = [f\"Command Type: {self.command_type}\"]\n",
    "        details.append(self.command)\n",
    "        if self.symbol is not None:\n",
    "            details.append(f\"Symbol: {self.symbol}\")\n",
    "        if self.dest is not None:\n",
    "            details.append(f\"Dest: {self.dest}\")\n",
    "        if self.comp is not None:\n",
    "            details.append(f\"Comp: {self.comp}\")\n",
    "        if self.jump is not None:\n",
    "            details.append(f\"Jump: {self.jump}\")\n",
    "        return \", \".join(details)"
   ]
  },
  {
   "cell_type": "code",
   "execution_count": 35,
   "id": "88246134-0d05-43a0-9572-41d49b6c44d5",
   "metadata": {
    "ExecuteTime": {
     "end_time": "2024-11-24T17:02:34.155564700Z",
     "start_time": "2024-11-24T17:02:34.135445200Z"
    }
   },
   "outputs": [],
   "source": [
    "class Parser:\n",
    "    \"\"\"Encapsulates access to the input code. Reads an assembly program\n",
    "    by reading each command line-by-line, parses the current command,\n",
    "    and provides convenient access to the commands components (fields\n",
    "    and symbols). In addition, removes all white space and comments.\n",
    "\n",
    "    to deal with multi line comments, don't read line by line\n",
    "    \n",
    "    \"\"\"\n",
    "\n",
    "    def __init__(self, input_file: typing.TextIO) -> None:\n",
    "        \"\"\"Opens the input file and gets ready to parse it.\n",
    "        \n",
    "\n",
    "        Args:\n",
    "            input_file (typing.TextIO): input file.\n",
    "        \"\"\"\n",
    "        self.file = input_file\n",
    "        self.file_lines = input_file.readlines()\n",
    "        self.processed_lines = [] #save processed lines for second pass\n",
    "        self.curr_line_counter = 0\n",
    "        self.current_line = None\n",
    "        self.curr_command = None\n",
    "        self.ROM_command_count = 0 #if starts whitespace\n",
    "        self.mlc = False #flag for multi line comment\n",
    "        self.symbol_table = SymbolTable()\n",
    "        self.first_pass = True\n",
    "        self.second_pass = False\n",
    "        self.coder = Code()\n",
    "        # Your code goes here!\n",
    "        # A good place to start is to read all the lines of the input:\n",
    "        # input_lines = input_file.read().splitlines()\n",
    "        pass\n",
    "\n",
    "    def has_more_commands(self) -> bool:\n",
    "        \"\"\"Are there more commands in the input?\n",
    "        although, the first and second will have same num lines\n",
    "\n",
    "        Returns:\n",
    "            bool: True if there are more commands, False otherwise.\n",
    "        \"\"\"\n",
    "        if self.first_pass:\n",
    "            return self.curr_line_counter < len(self.file_lines)\n",
    "        if self.second_pass:\n",
    "            return self.curr_line_counter < len(self.processed_lines)\n",
    "        \n",
    "    def check_mlc(self, file_line: str):\n",
    "        ''' check if in multi line comment\n",
    "        '''\n",
    "        if file_line.startswith(\"/*\"):\n",
    "            self.mlc = True\n",
    "        if file_line.startswith(\"*/\"):\n",
    "            self.mlc = False\n",
    "\n",
    "    def rem_non_code(self, file_line: str) -> str:\n",
    "        ''' remove all comments to white space from a 'line',\n",
    "        as selected by the _ module.\n",
    "        '''\n",
    "        if self.mlc: file_line = ''\n",
    "        file_line = file_line.replace(' ', '')\n",
    "        file_line = file_line.replace('\\n', '')\n",
    "        file_line = file_line.replace('\\t', '')\n",
    "        file_line = re.sub(r'^.*\\*/.*|(?://[^\\n]*|/\\*(?:(?!\\*/).)*\\*/)|[\\s]', '', file_line)\n",
    "        return file_line\n",
    "\n",
    "    def pre_process_line(self,file_line) -> None:\n",
    "        file_line = file_line.strip()\n",
    "        self.check_mlc(file_line)\n",
    "        file_line = self.rem_non_code(file_line)\n",
    "        return file_line\n",
    "\n",
    "    def add_label_to_symbol_table(self):\n",
    "        '''add label to symbol table\n",
    "        take into account encountering label before decleration.\n",
    "        only add label if being declared: (xxx)'''\n",
    "        if self.curr_command.command is not None and self.curr_command.get_type() == 'L_COMMAND':\n",
    "            # check if label is being declared\n",
    "            if self.curr_command.command.startswith(\"(\") and self.curr_command.command.endswith(\")\"):\n",
    "                print(f'adding label  {self.symbol()} to symbol table with value {self.ROM_command_count}')\n",
    "                #check if symbol already in table\n",
    "                if not self.symbol_table.contains(self.symbol()):\n",
    "                    self.symbol_table.add_entry(self.symbol(), self.ROM_command_count)\n",
    "    def add_variable_to_symbol_table(self):\n",
    "        if self.curr_command.command is None: return\n",
    "        command_type = self.command_type()\n",
    "        if command_type == 'A_COMMAND' and not self.symbol_table.contains(self.symbol()):\n",
    "            self.symbol_table.add_entry(self.symbol(), self.symbol_table.get_next_free_ind())\n",
    "            self.symbol_table.next_free_ram_ind += 1\n",
    "            \n",
    "    def update_rom_count(self):\n",
    "        if self.curr_command.get_type() in ['A_COMMAND', 'C_COMMAND']:\n",
    "            self.ROM_command_count += 1\n",
    "            \n",
    "    def advance(self) -> None:\n",
    "        \"\"\"Reads the next command from the input and makes it the current command.\n",
    "        Should be called only if has_more_commands() is true.\n",
    "        \"\"\"\n",
    "        if self.first_pass:\n",
    "            file_line = self.file_lines[self.curr_line_counter]\n",
    "            file_line = self.pre_process_line(file_line)\n",
    "            self.curr_command = Command(file_line)\n",
    "            #add labels to symbol table (with check for L_COMMAND)\n",
    "            self.add_label_to_symbol_table()\n",
    "            #after cretaing symbol, update ROM count\n",
    "            self.update_rom_count()\n",
    "            self.processed_lines.append(file_line)\n",
    "        if self.second_pass:\n",
    "            file_line = self.processed_lines[self.curr_line_counter]\n",
    "            if file_line == '':\n",
    "                self.curr_line_counter += 1\n",
    "                return None\n",
    "            self.curr_command = Command(file_line)\n",
    "            # add variables to symbol table\n",
    "            self.add_variable_to_symbol_table()\n",
    "            binary_command = self.get_command_binary()\n",
    "            self.curr_line_counter += 1\n",
    "            return binary_command\n",
    "            #write code\n",
    "        self.curr_line_counter += 1 #after reading\n",
    "        return None\n",
    "\n",
    "    def get_command_binary(self):\n",
    "        if self.curr_command.get_type() == 'A_COMMAND':\n",
    "            return self.binarise_a()\n",
    "        if self.curr_command.get_type() == 'C_COMMAND':\n",
    "            return self.binarise_c()\n",
    "        return None\n",
    "\n",
    "    def binarise_a(self):\n",
    "        '''@Xxx where Xxx is either a symbol or a decimal number\n",
    "        '''\n",
    "        symbol = self.symbol()\n",
    "        #if numeric:\n",
    "        if symbol.isnumeric():\n",
    "            return str('{0:016b}'.format(int(symbol)))\n",
    "        #if variable:\n",
    "        return str('{0:016b}'.format(self.symbol_table.get_address(symbol)))\n",
    "\n",
    "    def binarise_c(self):\n",
    "        '''dest=comp;jump\n",
    "        '''\n",
    "        dest = self.coder.dest(self.curr_command.get_dest())\n",
    "        comp = self.coder.comp(self.curr_command.get_comp())\n",
    "        jump = self.coder.jump(self.curr_command.get_jump())\n",
    "        type = self.curr_command.get_type()\n",
    "        return f\"{self.coder.start(type)}{comp}{dest}{jump}\"\n",
    "\n",
    "    def prep_for_second_pass(self):\n",
    "        self.first_pass = False\n",
    "        self.second_pass = True\n",
    "        self.curr_line_counter = 0\n",
    "        self.curr_command = None\n",
    "        return\n",
    "\n",
    "    def command_type(self) -> str:\n",
    "        \"\"\"\n",
    "        Returns:\n",
    "            str: the type of the current command:\n",
    "            \"A_COMMAND\" for @Xxx where Xxx is either a symbol or a decimal number\n",
    "            \"C_COMMAND\" for dest=comp;jump\n",
    "            \"L_COMMAND\" (actually, pseudo-command) for (Xxx) where Xxx is a symbol\n",
    "        \"\"\"\n",
    "        # Your code goes here!\n",
    "        return self.curr_command.get_type()\n",
    "\n",
    "    def symbol(self) -> str:\n",
    "        \"\"\"\n",
    "        Returns:\n",
    "            str: the symbol or decimal Xxx of the current command @Xxx or\n",
    "            (Xxx). Should be called only when command_type() is \"A_COMMAND\" or\n",
    "            \"L_COMMAND\".\n",
    "        \"\"\"\n",
    "        return self.curr_command.get_symbol()\n",
    "\n",
    "\n",
    "    def dest(self) -> str:\n",
    "        \"\"\"\n",
    "        Returns:\n",
    "            str: the dest mnemonic in the current C-command. Should be called\n",
    "            only when commandType() is \"C_COMMAND\".\n",
    "        \"\"\"\n",
    "        # Your code goes here!\n",
    "        return self.curr_command.get_dest()\n",
    "\n",
    "    def comp(self) -> str:\n",
    "        \"\"\"\n",
    "        Returns:\n",
    "            str: the comp mnemonic in the current C-command. Should be called\n",
    "            only when commandType() is \"C_COMMAND\".\n",
    "        \"\"\"\n",
    "        # Your code goes here!\n",
    "        return self.curr_command.get_comp()\n",
    "\n",
    "    def jump(self) -> str:\n",
    "        \"\"\"\n",
    "        Returns:\n",
    "            str: the jump mnemonic in the current C-command. Should be called\n",
    "            only when commandType() is \"C_COMMAND\".\n",
    "        \"\"\"\n",
    "        # Your code goes here!\n",
    "        return self.curr_command.get_jump()"
   ]
  },
  {
   "cell_type": "markdown",
   "id": "54988c4d",
   "metadata": {
    "collapsed": false,
    "jupyter": {
     "outputs_hidden": false
    }
   },
   "source": [
    "## symbol table"
   ]
  },
  {
   "cell_type": "code",
   "execution_count": 26,
   "id": "9f1c34e2-baa0-4619-92cd-8d887d3f5019",
   "metadata": {},
   "outputs": [
    {
     "data": {
      "text/plain": [
       "True"
      ]
     },
     "execution_count": 26,
     "metadata": {},
     "output_type": "execute_result"
    }
   ],
   "source": [
    "'8192'.isnumeric()"
   ]
  },
  {
   "cell_type": "code",
   "execution_count": 5,
   "id": "db92b863",
   "metadata": {
    "ExecuteTime": {
     "end_time": "2024-11-24T15:31:33.166984700Z",
     "start_time": "2024-11-24T15:31:33.125328900Z"
    },
    "collapsed": false,
    "jupyter": {
     "outputs_hidden": false
    }
   },
   "outputs": [],
   "source": [
    "VIRTUAL_REGISTERS = {\n",
    "    'R0': 0,\n",
    "    'R1': 1,\n",
    "    'R2': 2,\n",
    "    'R3': 3,\n",
    "    'R4': 4,\n",
    "    'R5': 5,\n",
    "    'R6': 6,\n",
    "    'R7': 7,\n",
    "    'R8': 8,\n",
    "    'R9': 9,\n",
    "    'R10': 10,\n",
    "    'R11': 11,\n",
    "    'R12': 12,\n",
    "    'R13': 13,\n",
    "    'R14': 14,\n",
    "    'R15': 15\n",
    "}\n",
    "\n",
    "NAMED_ADDRESSES = {\n",
    "    \"SCREEN\": 16384,\n",
    "    \"KBD\": 24576,\n",
    "    \"SP\": 0,\n",
    "    \"LCL\": 1,\n",
    "    \"ARG\": 2,\n",
    "    \"THIS\": 3,\n",
    "    \"THAT\": 4,\n",
    "    }\n"
   ]
  },
  {
   "cell_type": "code",
   "execution_count": 6,
   "id": "1aa9a49e",
   "metadata": {
    "ExecuteTime": {
     "end_time": "2024-11-24T15:51:14.502735900Z",
     "start_time": "2024-11-24T15:51:14.473415Z"
    },
    "collapsed": false,
    "jupyter": {
     "outputs_hidden": false
    }
   },
   "outputs": [],
   "source": [
    "\"\"\"\n",
    "This file is part of nand2tetris, as taught in The Hebrew University, and\n",
    "was written by Aviv Yaish. It is an extension to the specifications given\n",
    "[here](https://www.nand2tetris.org) (Shimon Schocken and Noam Nisan, 2017),\n",
    "as allowed by the Creative Common Attribution-NonCommercial-ShareAlike 3.0\n",
    "Unported [License](https://creativecommons.org/licenses/by-nc-sa/3.0/).\n",
    "\n",
    "\n",
    "Usualy done by saving the translated code in memory 0-x (say 1024), and saving variables from x (1024):\n",
    "Then each new varibale gets the next assigned the next address in the symbol table.\n",
    "\"\"\"\n",
    "\n",
    "\n",
    "class SymbolTable:\n",
    "    \"\"\"\n",
    "    A symbol table that keeps a correspondence between symbolic labels and\n",
    "    numeric addresses.\n",
    "    note that labels may be mapped to the same numbers as varaibles, but they refer to different mem devices (not problem of the symbol table)\n",
    "    the table tracks RAM addreses used, the parser counts ROM commands\n",
    "    \"\"\"\n",
    "\n",
    "    def __init__(self) -> None:\n",
    "        \"\"\"Creates a new symbol table initialized with all the predefined symbols\n",
    "        and their pre-allocated RAM addresses, according to section 6.2.3 of the\n",
    "        book.\n",
    "        \"\"\"\n",
    "        # Your code goes here!\n",
    "        def_table = VIRTUAL_REGISTERS\n",
    "        def_table.update(NAMED_ADDRESSES)\n",
    "        self.mapping_table = def_table\n",
    "        self.next_free_ram_ind = len(VIRTUAL_REGISTERS.keys())\n",
    "\n",
    "    def get_next_free_ind(self):\n",
    "        return self.next_free_ram_ind\n",
    "\n",
    "\n",
    "    def add_entry(self, symbol: str, address: int) -> None:\n",
    "        \"\"\"Adds the pair (symbol, address) to the table.\n",
    "\n",
    "        Args:\n",
    "            symbol (str): the symbol to add.\n",
    "            address (int): the address corresponding to the symbol.\n",
    "        \"\"\"\n",
    "        self.mapping_table[symbol] = address\n",
    "\n",
    "    def contains(self, symbol: str) -> bool:\n",
    "        \"\"\"Does the symbol table contain the given symbol?\n",
    "\n",
    "        Args:\n",
    "            symbol (str): a symbol.\n",
    "\n",
    "        Returns:\n",
    "            bool: True if the symbol is contained, False otherwise.\n",
    "        \"\"\"\n",
    "        return symbol in self.mapping_table.keys()\n",
    "\n",
    "    def get_address(self, symbol: str) -> int:\n",
    "        \"\"\"Returns the address associated with the symbol.\n",
    "\n",
    "        Args:\n",
    "            symbol (str): a symbol.\n",
    "\n",
    "        Returns:\n",
    "            int: the address associated with the symbol.\n",
    "        \"\"\"\n",
    "\n",
    "        return self.mapping_table[symbol]\n"
   ]
  },
  {
   "cell_type": "markdown",
   "id": "3d40f103",
   "metadata": {
    "collapsed": false,
    "jupyter": {
     "outputs_hidden": false
    }
   },
   "source": [
    "## code writer"
   ]
  },
  {
   "cell_type": "code",
   "execution_count": 15,
   "id": "991393c7",
   "metadata": {
    "ExecuteTime": {
     "end_time": "2024-11-24T17:11:57.208413100Z",
     "start_time": "2024-11-24T17:11:57.182268500Z"
    },
    "collapsed": false,
    "jupyter": {
     "outputs_hidden": false
    }
   },
   "outputs": [],
   "source": [
    "# create dicts mapping:\n",
    "'''\n",
    "comp (when a=0)\tc1\tc2\tc3\tc4\tc5\tc6\tcomp (when a=1)\n",
    "            0\t1\t0\t1\t0\t1\t0\n",
    "            1\t1\t1\t1\t1\t1\t1\n",
    "            -1\t1\t1\t1\t0\t1\t0\n",
    "            D\t0\t0\t1\t1\t0\t0\n",
    "            A\t1\t1\t0\t0\t0\t0\tM\n",
    "            !D\t0\t0\t1\t1\t0\t1\n",
    "            !A\t1\t1\t0\t0\t0\t1\t!M\n",
    "            -D\t0\t0\t1\t1\t1\t1\n",
    "            -A\t1\t1\t0\t0\t1\t1\t-M\n",
    "            D+1\t0\t1\t1\t1\t1\t1\n",
    "            A+1\t1\t1\t0\t1\t1\t1\tM+1\n",
    "            D-1\t0\t0\t1\t1\t1\t0\n",
    "            A-1\t1\t1\t0\t0\t1\t0\tM-1\n",
    "            D+A\t0\t0\t0\t0\t1\t0\tD+M\n",
    "            D-A\t0\t1\t0\t0\t1\t1\tD-M\n",
    "            A-D\t0\t0\t0\t1\t1\t1\tM-D\n",
    "            D&A\t0\t0\t0\t0\t0\t0\tD&M\n",
    "            D|A\t0\t1\t0\t1\t0\t1\tD|M\n",
    "\n",
    "and shift:\n",
    "Instruction\t    15\t14\t13\ta\tc1\tc2\tc3\tc4\tc5\tc6\n",
    "dest=A<<;jump\t1\t0\t1\t0\t1\t0\t0\t0\t0\t0\n",
    "dest=D<<;jump\t1\t0\t1\t0\t1\t1\t0\t0\t0\t0\n",
    "dest=M<<;jump\t1\t0\t1\t1\t1\t0\t0\t0\t0\t0\n",
    "dest=A>>;jump\t1\t0\t1\t0\t0\t0\t0\t0\t0\t0\n",
    "dest=D>>;jump\t1\t0\t1\t0\t0\t1\t0\t0\t0\t0\n",
    "dest=M>>;jump\t1\t0\t1\t1\t0\t0\t0\t0\t0\t0\n",
    "'''\n",
    "\n",
    "COMP_BITS = {'':'0000000','null':'0000000','0':'0101010', '1':'0111111', '-1':'0111010', 'D':'0001100', 'A':'0110000', '!D':'0001101', '!A':'0110001', '-D':'0001111', '-A':'0110011', 'D+1':'0011111','1+D':'0011111', '1+A':'0110111','A+1':'0110111', 'D-1':'0001110', 'A-1':'0110010', 'D+A':'0000010','A+D':'0000010', 'D-A':'0010011', 'A-D':'0000111', 'D&A':'0000000', 'A&D':'0000000','D|A':'0010101', 'A|D':'0010101',\n",
    "  'M':'1110000', '!M':'1110001', '-M':'1110011', 'M+1':'1110111', '1+M':'1110111','M-1':'1110010', 'D+M':'1000010', 'M+D':'1000010','D-M':'1010011', 'M-D':'1000111', 'D&M':'1000000', 'M&D':'1000000', 'D|M':'1010101', 'M|D':'1010101',   \"A<<\": \"0100000\", \"D<<\": \"0110000\", \"M<<\": \"1100000\",\n",
    "    \"A>>\": \"0000000\", \"D>>\": \"0010000\", \"M>>\": \"1000000\"}\n",
    "\n",
    "DEST_BITS = {None:'000','null':'000', 'M':'001',\n",
    "             'D':'010', 'MD':'011',\n",
    "             'A':'100', 'AM':'101',\n",
    "             'AD':'110', 'AMD':'111'}\n",
    "\n",
    "JUMP_BITS = {None:'000','null':'000', 'JGT':'001',\n",
    "                'JEQ':'010', 'JGE':'011',\n",
    "                'JLT':'100', 'JNE':'101',\n",
    "                'JLE':'110', 'JMP':'111'}\n",
    "\n",
    "START_BITS = {'A_COMMAND':'000', 'C_COMMAND':'111', 'L_COMMAND':'000', 'shift':'101'}"
   ]
  },
  {
   "cell_type": "code",
   "execution_count": 17,
   "id": "181dca61",
   "metadata": {
    "ExecuteTime": {
     "end_time": "2024-11-24T17:02:38.158491800Z",
     "start_time": "2024-11-24T17:02:38.128674400Z"
    },
    "collapsed": false,
    "jupyter": {
     "outputs_hidden": false
    }
   },
   "outputs": [],
   "source": [
    "\n",
    "class Code:\n",
    "    \"\"\"Translates Hack assembly language mnemonics into binary codes.\"\"\"\n",
    "\n",
    "    @staticmethod\n",
    "    def dest(mnemonic: str) -> str:\n",
    "        \"\"\"\n",
    "        Args:\n",
    "            mnemonic (str): a dest mnemonic string.\n",
    "\n",
    "        Returns:\n",
    "            str: 3-bit long binary code of the given mnemonic.\n",
    "        \"\"\"\n",
    "        # Your code goes here!\n",
    "        return DEST_BITS[mnemonic]\n",
    "\n",
    "    @staticmethod\n",
    "    def comp(mnemonic: str) -> str:\n",
    "        \"\"\"\n",
    "        Args:\n",
    "            mnemonic (str): a comp mnemonic string.\n",
    "\n",
    "        Returns:\n",
    "            str: the binary code of the given mnemonic.\n",
    "        \"\"\"\n",
    "        # Your code goes here!\n",
    "        return COMP_BITS[mnemonic]\n",
    "\n",
    "    @staticmethod\n",
    "    def jump(mnemonic: str) -> str:\n",
    "        \"\"\"\n",
    "        Args:\n",
    "            mnemonic (str): a jump mnemonic string.\n",
    "\n",
    "        Returns:\n",
    "            str: 3-bit long binary code of the given mnemonic.\n",
    "        \"\"\"\n",
    "        # Your code goes here!\n",
    "        return JUMP_BITS[mnemonic]\n",
    "\n",
    "    @staticmethod\n",
    "    def start(command_type: str) -> str:\n",
    "        \"\"\"\n",
    "        Args:\n",
    "            mnemonic (str): a jump mnemonic string.\n",
    "\n",
    "        Returns:\n",
    "            str: 3-bit long binary code of the given mnemonic.\n",
    "        \"\"\"\n",
    "        # Your code goes here!\n",
    "        return START_BITS[command_type]\n",
    "\n"
   ]
  },
  {
   "cell_type": "markdown",
   "id": "470bc643",
   "metadata": {
    "collapsed": false,
    "jupyter": {
     "outputs_hidden": false
    }
   },
   "source": [
    "## main"
   ]
  },
  {
   "cell_type": "code",
   "execution_count": 9,
   "id": "b973b5bb",
   "metadata": {
    "collapsed": false,
    "jupyter": {
     "outputs_hidden": false
    }
   },
   "outputs": [],
   "source": [
    "def assemble_file(\n",
    "        input_file: typing.TextIO, output_file: typing.TextIO) -> None:\n",
    "    \"\"\"Assembles a single file.\n",
    "\n",
    "    Args:\n",
    "        input_file (typing.TextIO): the file to assemble.\n",
    "        output_file (typing.TextIO): writes all output to this file.\n",
    "    \"\"\"\n",
    "    pass"
   ]
  },
  {
   "cell_type": "code",
   "execution_count": 38,
   "id": "68d837b7",
   "metadata": {
    "ExecuteTime": {
     "end_time": "2024-11-24T17:18:38.577638Z",
     "start_time": "2024-11-24T17:18:38.529532700Z"
    },
    "collapsed": false,
    "jupyter": {
     "outputs_hidden": false
    }
   },
   "outputs": [
    {
     "name": "stdout",
     "output_type": "stream",
     "text": [
      "adding label  loop to symbol table with value 10\n",
      "adding label  no_key to symbol table with value 18\n",
      "adding label  update_screen to symbol table with value 20\n",
      "adding label  reset_index to symbol table with value 35\n"
     ]
    }
   ],
   "source": [
    "# content of assemble file func\n",
    "# init parser: while file open, lines get saved in self.file_lines\n",
    "test_file_path = './../04/fill/Fill.asm'\n",
    "output_file = Path('./test_fill').with_suffix('.hack')\n",
    "with open(test_file_path, 'r') as input_file:\n",
    "    parser = Parser(input_file)\n",
    "processed_lines = []\n",
    "while parser.has_more_commands():\n",
    "    parser.advance()\n",
    "    #print(parser.curr_command)\n",
    "# do first pass: populate symbol table with labels, and remove non code\n",
    "# do second pass: write code\n",
    "parser.prep_for_second_pass()\n",
    "binary_lines = []\n",
    "#while writing to output:\n",
    "with open(output_file, 'w') as output_file:\n",
    "    while parser.has_more_commands():\n",
    "        binary = parser.advance()\n",
    "        binary_lines.append(binary)\n",
    "        if binary is not None: \n",
    "            output_file.write(f\"{binary}\\n\")\n",
    "        #print(parser.curr_command)\n",
    "        #write to output file\n",
    "        #output_file.write(f\"{parser.curr_command}\\n\")\n",
    "\n",
    "\n"
   ]
  },
  {
   "cell_type": "code",
   "execution_count": 37,
   "id": "69f87dfa",
   "metadata": {
    "ExecuteTime": {
     "end_time": "2024-11-24T17:20:37.383761400Z",
     "start_time": "2024-11-24T17:20:37.332404600Z"
    },
    "collapsed": false,
    "jupyter": {
     "outputs_hidden": false
    }
   },
   "outputs": [
    {
     "name": "stdout",
     "output_type": "stream",
     "text": [
      "command: ; binary: None\n",
      "command: ; binary: None\n",
      "command: ; binary: None\n",
      "command: ; binary: None\n",
      "command: ; binary: None\n",
      "command: ; binary: None\n",
      "command: ; binary: None\n",
      "command: ; binary: None\n",
      "command: ; binary: None\n",
      "command: ; binary: None\n",
      "command: ; binary: None\n",
      "command: ; binary: None\n",
      "command: ; binary: None\n",
      "command: ; binary: None\n",
      "command: ; binary: None\n",
      "command: ; binary: None\n",
      "command: ; binary: None\n",
      "command: ; binary: None\n",
      "command: ; binary: None\n",
      "command: ; binary: None\n",
      "command: ; binary: None\n",
      "command: ; binary: None\n",
      "command: ; binary: None\n",
      "command: ; binary: None\n",
      "command: ; binary: None\n",
      "command: ; binary: None\n",
      "command: ; binary: None\n",
      "command: ; binary: None\n",
      "command: ; binary: None\n",
      "command: ; binary: None\n",
      "command: ; binary: None\n",
      "command: ; binary: None\n",
      "command: ; binary: None\n",
      "command: ; binary: None\n",
      "command: ; binary: None\n",
      "command: ; binary: None\n",
      "command: ; binary: None\n",
      "command: ; binary: None\n",
      "command: ; binary: None\n",
      "command: ; binary: None\n",
      "command: @SCREEN; binary: 0100000000000000\n",
      "command: D=A; binary: 1110110000010000\n",
      "command: @8192; binary: 0010000000000000\n",
      "command: D=D+A; binary: 1110000010010000\n",
      "command: @screen_end_p1; binary: 0000000000011100\n",
      "command: M=M+D; binary: 1111000010001000\n",
      "command: ; binary: None\n",
      "command: @SCREEN; binary: 0100000000000000\n",
      "command: D=A; binary: 1110110000010000\n",
      "command: @index; binary: 0000000000011101\n",
      "command: M=D; binary: 1110001100001000\n",
      "command: ; binary: None\n",
      "command: ; binary: None\n",
      "command: (loop); binary: None\n",
      "command: ; binary: None\n",
      "command: @KBD; binary: 0110000000000000\n",
      "command: D=M; binary: 1111110000010000\n",
      "command: @no_key; binary: 0000000000010010\n",
      "command: D;JEQ; binary: 1110001100000010\n",
      "command: ; binary: None\n",
      "command: @color_vlaue; binary: 0000000000011110\n",
      "command: M=-1; binary: 1110111010001000\n",
      "command: @update_screen; binary: 0000000000010100\n",
      "command: 0;JMP; binary: 1110101010000111\n",
      "command: ; binary: None\n",
      "command: (no_key); binary: None\n",
      "command: @color_vlaue; binary: 0000000000011110\n",
      "command: M=0; binary: 1110101010001000\n",
      "command: ; binary: None\n",
      "command: ; binary: None\n",
      "command: (update_screen); binary: None\n",
      "command: @color_vlaue; binary: 0000000000011110\n",
      "command: D=M; binary: 1111110000010000\n",
      "command: @index; binary: 0000000000011101\n",
      "command: A=M; binary: 1111110000100000\n",
      "command: M=D; binary: 1110001100001000\n",
      "command: ; binary: None\n",
      "command: ; binary: None\n",
      "command: @index; binary: 0000000000011101\n",
      "command: M=M+1; binary: 1111110111001000\n",
      "command: ; binary: None\n",
      "command: ; binary: None\n",
      "command: @screen_end_p1; binary: 0000000000011100\n",
      "command: D=M; binary: 1111110000010000\n",
      "command: @index; binary: 0000000000011101\n",
      "command: D=D-M; binary: 1111010011010000\n",
      "command: @reset_index; binary: 0000000000100011\n",
      "command: D;JEQ; binary: 1110001100000010\n",
      "command: ; binary: None\n",
      "command: @loop; binary: 0000000000001010\n",
      "command: 0;JMP; binary: 1110101010000111\n",
      "command: (reset_index); binary: None\n",
      "command: @SCREEN; binary: 0100000000000000\n",
      "command: D=A; binary: 1110110000010000\n",
      "command: @index; binary: 0000000000011101\n",
      "command: M=D; binary: 1110001100001000\n",
      "command: @loop; binary: 0000000000001010\n",
      "command: 0;JMP; binary: 1110101010000111\n",
      "command: ; binary: None\n",
      "command: ; binary: None\n",
      "command: ; binary: None\n"
     ]
    }
   ],
   "source": [
    "for i in range(len(binary_lines)):\n",
    "    print(f'command: {parser.processed_lines[i]}; binary: {binary_lines[i]}')"
   ]
  },
  {
   "cell_type": "code",
   "execution_count": 51,
   "id": "8b21418e",
   "metadata": {
    "ExecuteTime": {
     "end_time": "2024-11-24T16:07:01.182812500Z",
     "start_time": "2024-11-24T16:07:01.167521200Z"
    },
    "collapsed": false,
    "jupyter": {
     "outputs_hidden": false
    }
   },
   "outputs": [
    {
     "data": {
      "text/plain": [
       "True"
      ]
     },
     "execution_count": 51,
     "metadata": {},
     "output_type": "execute_result"
    }
   ],
   "source": [
    "parser.processed_lines[3] == ''"
   ]
  },
  {
   "cell_type": "code",
   "execution_count": 68,
   "id": "917e6ad1",
   "metadata": {
    "ExecuteTime": {
     "end_time": "2024-11-24T17:18:51.267498700Z",
     "start_time": "2024-11-24T17:18:51.183432100Z"
    },
    "collapsed": false,
    "jupyter": {
     "outputs_hidden": false
    }
   },
   "outputs": [
    {
     "data": {
      "text/plain": [
       "{'R0': 0,\n",
       " 'R1': 1,\n",
       " 'R2': 2,\n",
       " 'R3': 3,\n",
       " 'R4': 4,\n",
       " 'R5': 5,\n",
       " 'R6': 6,\n",
       " 'R7': 7,\n",
       " 'R8': 8,\n",
       " 'R9': 9,\n",
       " 'R10': 10,\n",
       " 'R11': 11,\n",
       " 'R12': 12,\n",
       " 'R13': 13,\n",
       " 'R14': 14,\n",
       " 'R15': 15,\n",
       " 'SCREEN': 16384,\n",
       " 'KBD': 24576,\n",
       " 'SP': 0,\n",
       " 'LCL': 1,\n",
       " 'ARG': 2,\n",
       " 'THIS': 3,\n",
       " 'THAT': 4,\n",
       " 'loop': 10,\n",
       " 'no_key': 18,\n",
       " 'update_screen': 20,\n",
       " 'reset_index': 35,\n",
       " '8192': 27,\n",
       " 'screen_end_p1': 28,\n",
       " 'index': 29,\n",
       " 'color_vlaue': 30}"
      ]
     },
     "execution_count": 68,
     "metadata": {},
     "output_type": "execute_result"
    }
   ],
   "source": [
    "parser.symbol_table.mapping_table"
   ]
  },
  {
   "cell_type": "markdown",
   "id": "cb850e90",
   "metadata": {
    "collapsed": false,
    "jupyter": {
     "outputs_hidden": false
    }
   },
   "source": [
    "## test"
   ]
  },
  {
   "cell_type": "code",
   "execution_count": null,
   "id": "f7fc85b8",
   "metadata": {
    "collapsed": false,
    "jupyter": {
     "outputs_hidden": false
    }
   },
   "outputs": [],
   "source": []
  },
  {
   "cell_type": "code",
   "execution_count": 19,
   "id": "2dbc840f-01f8-4a11-9333-252dad765183",
   "metadata": {
    "ExecuteTime": {
     "end_time": "2024-11-24T07:34:20.147315900Z",
     "start_time": "2024-11-24T07:34:20.104665700Z"
    }
   },
   "outputs": [
    {
     "name": "stdout",
     "output_type": "stream",
     "text": [
      "null\n",
      "null\n",
      "null\n",
      "null\n",
      "null\n",
      "null\n",
      "null\n",
      "null\n",
      "null\n",
      "null\n",
      "null\n",
      "null\n",
      "null\n",
      "null\n",
      "null\n",
      "null\n",
      "null\n",
      "null\n",
      "null\n",
      "null\n",
      "null\n",
      "null\n",
      "null\n",
      "Command Type: A_COMMAND, @R2, Symbol: R2\n",
      "Command Type: C_COMMAND, M=0, Dest: M, Comp: 0\n",
      "null\n",
      "Command Type: A_COMMAND, @R0, Symbol: R0\n",
      "Command Type: C_COMMAND, D=M, Dest: D, Comp: M\n",
      "Command Type: A_COMMAND, @END, Symbol: END\n",
      "Command Type: C_COMMAND, D;JEQ, Comp: D, Jump: JEQ\n",
      "null\n",
      "Command Type: A_COMMAND, @R1, Symbol: R1\n",
      "Command Type: C_COMMAND, D=M, Dest: D, Comp: M\n",
      "Command Type: A_COMMAND, @END, Symbol: END\n",
      "Command Type: C_COMMAND, D;JEQ, Comp: D, Jump: JEQ\n",
      "null\n",
      "Command Type: A_COMMAND, @R1, Symbol: R1\n",
      "Command Type: C_COMMAND, D=M, Dest: D, Comp: M\n",
      "Command Type: A_COMMAND, @i, Symbol: i\n",
      "Command Type: C_COMMAND, M=D, Dest: M, Comp: D\n",
      "null\n",
      "Command Type: L_COMMAND, (LOOP), Symbol: LOOP\n",
      "null\n",
      "Command Type: A_COMMAND, @i, Symbol: i\n",
      "Command Type: C_COMMAND, D=M, Dest: D, Comp: M\n",
      "Command Type: A_COMMAND, @END, Symbol: END\n",
      "Command Type: C_COMMAND, D;JEQ, Comp: D, Jump: JEQ\n",
      "null\n",
      "Command Type: A_COMMAND, @R0, Symbol: R0\n",
      "Command Type: C_COMMAND, D=M, Dest: D, Comp: M\n",
      "Command Type: A_COMMAND, @R2, Symbol: R2\n",
      "Command Type: C_COMMAND, M=M+D, Dest: M, Comp: M+D\n",
      "null\n",
      "Command Type: A_COMMAND, @i, Symbol: i\n",
      "Command Type: C_COMMAND, M=M-1, Dest: M, Comp: M-1\n",
      "Command Type: A_COMMAND, @LOOP, Symbol: LOOP\n",
      "Command Type: C_COMMAND, 0;JMP, Comp: 0, Jump: JMP\n",
      "Command Type: L_COMMAND, (END), Symbol: END\n"
     ]
    }
   ],
   "source": [
    "test_file_path = './Mult.asm'\n",
    "with open(test_file_path, 'r') as file:\n",
    "    parser = Parser(file)\n",
    "\n",
    "\n",
    "for i in range(len(parser.file_lines)):\n",
    "    parser.advance()\n",
    "    print(parser.curr_command)"
   ]
  }
 ],
 "metadata": {
  "kernelspec": {
   "display_name": "Python (base)",
   "language": "python",
   "name": "python3"
  },
  "language_info": {
   "codemirror_mode": {
    "name": "ipython",
    "version": 3
   },
   "file_extension": ".py",
   "mimetype": "text/x-python",
   "name": "python",
   "nbconvert_exporter": "python",
   "pygments_lexer": "ipython3",
   "version": "3.10.14"
  }
 },
 "nbformat": 4,
 "nbformat_minor": 5
}
